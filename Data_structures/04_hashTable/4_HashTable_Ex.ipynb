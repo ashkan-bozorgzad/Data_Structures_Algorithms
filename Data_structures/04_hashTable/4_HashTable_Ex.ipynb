{
 "cells": [
  {
   "cell_type": "markdown",
   "id": "f202d7d5",
   "metadata": {},
   "source": [
    "# Exercise: Hash Table"
   ]
  },
  {
   "cell_type": "markdown",
   "id": "2e3ed982",
   "metadata": {},
   "source": [
    "1. [nyc_weather.csv](https://github.com/codebasics/data-structures-algorithms-python/blob/master/data_structures/4_HashTable_2_Collisions/Solution/nyc_weather.csv) contains new york city weather for first few days in the month of January. Write a program that can answer following,\n",
    "    1. What was the average temperature in first week of Jan\n",
    "    1. What was the maximum temperature in first 10 days of Jan\n",
    "\n",
    "Figure out data structure that is best for this problem"
   ]
  },
  {
   "cell_type": "code",
   "execution_count": 11,
   "id": "5b17a380",
   "metadata": {},
   "outputs": [],
   "source": [
    "arr = []\n",
    "with open('nyc_weather.csv', mode='r') as file:\n",
    "    for line in file:\n",
    "        tokens = line.split(',')\n",
    "        if tokens[1] != 'temperature(F)\\n':\n",
    "            temperature = int(tokens[1])\n",
    "            arr.append(temperature) "
   ]
  },
  {
   "cell_type": "code",
   "execution_count": 12,
   "id": "73d68988",
   "metadata": {},
   "outputs": [
    {
     "data": {
      "text/plain": [
       "[27, 31, 23, 34, 37, 38, 29, 30, 35, 30]"
      ]
     },
     "execution_count": 12,
     "metadata": {},
     "output_type": "execute_result"
    }
   ],
   "source": [
    "arr"
   ]
  },
  {
   "cell_type": "markdown",
   "id": "144a0b51",
   "metadata": {},
   "source": [
    "#### What was the average temperature in first week of Jan"
   ]
  },
  {
   "cell_type": "code",
   "execution_count": 16,
   "id": "6361c60f",
   "metadata": {},
   "outputs": [
    {
     "name": "stdout",
     "output_type": "stream",
     "text": [
      "the average temperature in first week of Jan is 31.4\n"
     ]
    }
   ],
   "source": [
    "average =  sum(arr) / len(arr)\n",
    "print('the average temperature in first week of Jan is', average)"
   ]
  },
  {
   "cell_type": "markdown",
   "id": "9d2a0b86",
   "metadata": {},
   "source": [
    "#### What was the maximum temperature in first 10 days of Jan"
   ]
  },
  {
   "cell_type": "code",
   "execution_count": 18,
   "id": "18aa9364",
   "metadata": {},
   "outputs": [
    {
     "name": "stdout",
     "output_type": "stream",
     "text": [
      "the maximum temperature in first 10 days of Jan is 38\n"
     ]
    }
   ],
   "source": [
    "print('the maximum temperature in first 10 days of Jan is', max(arr))"
   ]
  },
  {
   "cell_type": "markdown",
   "id": "42e52070",
   "metadata": {},
   "source": [
    "2. [nyc_weather.csv](https://github.com/codebasics/data-structures-algorithms-python/blob/master/data_structures/4_HashTable_2_Collisions/Solution/nyc_weather.csv) contains new york city weather for first few days in the month of January. Write a program that can answer following,\n",
    "    1. What was the temperature on Jan 9?\n",
    "    1. What was the temperature on Jan 4?\n",
    "\n",
    "Figure out data structure that is best for this problem"
   ]
  },
  {
   "cell_type": "code",
   "execution_count": 19,
   "id": "3dd14f30",
   "metadata": {},
   "outputs": [],
   "source": [
    "dic = {}\n",
    "with open('nyc_weather.csv', mode='r') as file:\n",
    "    for line in file:\n",
    "        tokens = line.split(',')\n",
    "        if tokens[0]!= 'date' and tokens[1] != 'temperature(F)\\n':\n",
    "            date = tokens[0]\n",
    "            temperature = int(tokens[1])\n",
    "            dic[date] = temperature "
   ]
  },
  {
   "cell_type": "markdown",
   "id": "f24e35c6",
   "metadata": {},
   "source": [
    "#### What was the temperature on Jan 9?"
   ]
  },
  {
   "cell_type": "code",
   "execution_count": 21,
   "id": "27c0eaa6",
   "metadata": {},
   "outputs": [
    {
     "name": "stdout",
     "output_type": "stream",
     "text": [
      "the temperature on Jan 9 is 35\n"
     ]
    }
   ],
   "source": [
    "print('the temperature on Jan 9 is', dic['Jan 9'])"
   ]
  },
  {
   "cell_type": "markdown",
   "id": "891c3582",
   "metadata": {},
   "source": [
    "#### What was the temperature on Jan 4?"
   ]
  },
  {
   "cell_type": "code",
   "execution_count": 22,
   "id": "81504f34",
   "metadata": {},
   "outputs": [
    {
     "name": "stdout",
     "output_type": "stream",
     "text": [
      "the temperature on Jan 4 is 34\n"
     ]
    }
   ],
   "source": [
    "print('the temperature on Jan 4 is', dic['Jan 4'])"
   ]
  },
  {
   "cell_type": "markdown",
   "id": "a2d03f09",
   "metadata": {},
   "source": [
    "3. [poem.txt](https://github.com/codebasics/data-structures-algorithms-python/blob/master/data_structures/4_HashTable_2_Collisions/Solution/poem.txt) Contains famous poem \"Road not taken\" by poet Robert Frost. You have to read this file in python and print every word and its count as show below. Think about the best data structure that you can use to solve this problem and figure out why you selected that specific data structure.\n",
    "```\n",
    " 'diverged': 2,\n",
    " 'in': 3,\n",
    " 'I': 8\n",
    "```"
   ]
  },
  {
   "cell_type": "code",
   "execution_count": 33,
   "id": "966ffb9b",
   "metadata": {},
   "outputs": [],
   "source": [
    "word_count = {}\n",
    "with open('poem.txt', mode='r') as file:\n",
    "    for line in file:\n",
    "        line = line.replace('\\n','')\n",
    "        tokens = line.split(' ')\n",
    "        for word in tokens:\n",
    "            if word not in word_count:\n",
    "                word_count[word] = 1\n",
    "            else:\n",
    "                word_count[word] +=1"
   ]
  },
  {
   "cell_type": "code",
   "execution_count": 34,
   "id": "17c9845d",
   "metadata": {},
   "outputs": [
    {
     "data": {
      "text/plain": [
       "{'Two': 2,\n",
       " 'roads': 2,\n",
       " 'diverged': 2,\n",
       " 'in': 3,\n",
       " 'a': 3,\n",
       " 'yellow': 1,\n",
       " 'wood,': 2,\n",
       " 'And': 6,\n",
       " 'sorry': 1,\n",
       " 'I': 8,\n",
       " 'could': 2,\n",
       " 'not': 1,\n",
       " 'travel': 1,\n",
       " 'both': 2,\n",
       " 'be': 2,\n",
       " 'one': 3,\n",
       " 'traveler,': 1,\n",
       " 'long': 1,\n",
       " 'stood': 1,\n",
       " 'looked': 1,\n",
       " 'down': 1,\n",
       " 'as': 5,\n",
       " 'far': 1,\n",
       " 'To': 1,\n",
       " 'where': 1,\n",
       " 'it': 2,\n",
       " 'bent': 1,\n",
       " 'the': 8,\n",
       " 'undergrowth;': 1,\n",
       " '': 3,\n",
       " 'Then': 1,\n",
       " 'took': 2,\n",
       " 'other,': 1,\n",
       " 'just': 1,\n",
       " 'fair,': 1,\n",
       " 'having': 1,\n",
       " 'perhaps': 1,\n",
       " 'better': 1,\n",
       " 'claim,': 1,\n",
       " 'Because': 1,\n",
       " 'was': 1,\n",
       " 'grassy': 1,\n",
       " 'and': 3,\n",
       " 'wanted': 1,\n",
       " 'wear;': 1,\n",
       " 'Though': 1,\n",
       " 'for': 2,\n",
       " 'that': 3,\n",
       " 'passing': 1,\n",
       " 'there': 1,\n",
       " 'Had': 1,\n",
       " 'worn': 1,\n",
       " 'them': 1,\n",
       " 'really': 1,\n",
       " 'about': 1,\n",
       " 'same,': 1,\n",
       " 'morning': 1,\n",
       " 'equally': 1,\n",
       " 'lay': 1,\n",
       " 'In': 1,\n",
       " 'leaves': 1,\n",
       " 'no': 1,\n",
       " 'step': 1,\n",
       " 'had': 1,\n",
       " 'trodden': 1,\n",
       " 'black.': 1,\n",
       " 'Oh,': 1,\n",
       " 'kept': 1,\n",
       " 'first': 1,\n",
       " 'another': 1,\n",
       " 'day!': 1,\n",
       " 'Yet': 1,\n",
       " 'knowing': 1,\n",
       " 'how': 1,\n",
       " 'way': 1,\n",
       " 'leads': 1,\n",
       " 'on': 1,\n",
       " 'to': 1,\n",
       " 'way,': 1,\n",
       " 'doubted': 1,\n",
       " 'if': 1,\n",
       " 'should': 1,\n",
       " 'ever': 1,\n",
       " 'come': 1,\n",
       " 'back.': 1,\n",
       " 'shall': 1,\n",
       " 'telling': 1,\n",
       " 'this': 1,\n",
       " 'with': 1,\n",
       " 'sigh': 1,\n",
       " 'Somewhere': 1,\n",
       " 'ages': 2,\n",
       " 'hence:': 1,\n",
       " 'Iâ€”': 1,\n",
       " 'less': 1,\n",
       " 'traveled': 1,\n",
       " 'by,': 1,\n",
       " 'has': 1,\n",
       " 'made': 1,\n",
       " 'all': 1,\n",
       " 'difference.': 1}"
      ]
     },
     "execution_count": 34,
     "metadata": {},
     "output_type": "execute_result"
    }
   ],
   "source": [
    "word_count"
   ]
  },
  {
   "cell_type": "markdown",
   "id": "f8585995",
   "metadata": {},
   "source": [
    "4. Implement hash table where collisions are handled using linear probing. We learnt about linear probing in the video tutorial. Take the hash table implementation that uses chaining and modify methods to use **linear probing**. Keep MAX size of arr in hashtable as 10."
   ]
  },
  {
   "cell_type": "markdown",
   "id": "1e6b734d",
   "metadata": {},
   "source": [
    "### Implement hash table collision handling using linear probing"
   ]
  },
  {
   "cell_type": "code",
   "execution_count": 35,
   "id": "d5471442",
   "metadata": {},
   "outputs": [],
   "source": [
    "class HashTable:  \n",
    "    def __init__(self):\n",
    "        self.MAX = 10 \n",
    "        self.arr = [None for i in range(self.MAX)]\n",
    "        \n",
    "    def get_hash(self, key):\n",
    "        hash = 0\n",
    "        for char in key:\n",
    "            hash += ord(char)\n",
    "        return hash % self.MAX\n",
    "    \n",
    "    "
   ]
  }
 ],
 "metadata": {
  "kernelspec": {
   "display_name": "Python 3 (ipykernel)",
   "language": "python",
   "name": "python3"
  },
  "language_info": {
   "codemirror_mode": {
    "name": "ipython",
    "version": 3
   },
   "file_extension": ".py",
   "mimetype": "text/x-python",
   "name": "python",
   "nbconvert_exporter": "python",
   "pygments_lexer": "ipython3",
   "version": "3.11.5"
  }
 },
 "nbformat": 4,
 "nbformat_minor": 5
}
