{
 "cells": [
  {
   "cell_type": "markdown",
   "id": "056d74fa",
   "metadata": {},
   "source": [
    "## Data structure tutorial exercise: Stack"
   ]
  },
  {
   "cell_type": "markdown",
   "id": "2f121eec",
   "metadata": {},
   "source": [
    "1. Write a function in python that can reverse a string using stack data structure. Use Stack class from the tutorial.\n"
   ]
  },
  {
   "cell_type": "code",
   "execution_count": 3,
   "id": "5c49e438",
   "metadata": {},
   "outputs": [],
   "source": [
    "from collections import deque"
   ]
  },
  {
   "cell_type": "code",
   "execution_count": null,
   "id": "4a4e7ec8",
   "metadata": {},
   "outputs": [],
   "source": [
    "class Stack:\n",
    "    def __init__(self):\n",
    "        self.container = deque()\n",
    "    \n",
    "    def push(self,val):\n",
    "        self.container.append(val)\n",
    "        \n",
    "    def pop(self):\n",
    "        return self.container.pop()\n",
    "    \n",
    "    def peek(self):\n",
    "        return  self.container[-1]\n",
    "    \n",
    "    def is_empty(self):\n",
    "        return len(self.container)==0\n",
    "    \n",
    "    def size(self):\n",
    "        return len(self.container)       "
   ]
  },
  {
   "cell_type": "code",
   "execution_count": 22,
   "id": "92d60059",
   "metadata": {},
   "outputs": [],
   "source": [
    "def reverse_string(str):\n",
    "    stack = Stack()\n",
    "    \n",
    "    for ch in str:\n",
    "        stack.push(ch)\n",
    "        \n",
    "    rev_str = ''\n",
    "    \n",
    "    while not stack.is_empty():\n",
    "        rev_str += stack.pop()\n",
    "        \n",
    "    return rev_str\n",
    "    "
   ]
  },
  {
   "cell_type": "code",
   "execution_count": 23,
   "id": "2f989791",
   "metadata": {},
   "outputs": [
    {
     "data": {
      "text/plain": [
       "'/moc.nnc.www//:sptth'"
      ]
     },
     "execution_count": 23,
     "metadata": {},
     "output_type": "execute_result"
    }
   ],
   "source": [
    "reverse_string(\"https://www.cnn.com/\")"
   ]
  },
  {
   "cell_type": "markdown",
   "id": "fb5da29e",
   "metadata": {},
   "source": [
    "2. Write a function in python that checks if paranthesis in the string are balanced or not. Possible parantheses are \"{}',\"()\" or \"[]\"."
   ]
  },
  {
   "cell_type": "code",
   "execution_count": 39,
   "id": "64cb9c54",
   "metadata": {},
   "outputs": [],
   "source": [
    "def is_match(ch1, ch2):\n",
    "    match_dict = {\n",
    "        ')': '(',\n",
    "        ']': '[',\n",
    "        '}': '{'\n",
    "    }\n",
    "    return match_dict[ch1] == ch2\n",
    "\n",
    "\n",
    "def is_balanced(str):\n",
    "    stack = Stack()\n",
    "    \n",
    "    for ch in str:\n",
    "        if ch == '(' or ch == '[' or ch == '{':\n",
    "            stack.push(ch)\n",
    "            \n",
    "        if ch == ')' or ch == ']' or ch =='}':\n",
    "            if stack.size() == 0:\n",
    "                return False\n",
    "            if not is_match(ch, stack.pop()):\n",
    "                return False\n",
    "        \n",
    "    return stack.size() == 0\n",
    "    \n"
   ]
  },
  {
   "cell_type": "code",
   "execution_count": 41,
   "id": "5424d732",
   "metadata": {},
   "outputs": [
    {
     "name": "stdout",
     "output_type": "stream",
     "text": [
      "True\n",
      "False\n",
      "True\n",
      "True\n",
      "False\n",
      "True\n"
     ]
    }
   ],
   "source": [
    "print(is_balanced(\"({a+b})\"))\n",
    "print(is_balanced(\"))((a+b}{\"))\n",
    "print(is_balanced(\"((a+b))\"))\n",
    "print(is_balanced(\"((a+g))\"))\n",
    "print(is_balanced(\"))\"))\n",
    "print(is_balanced(\"[a+b]*(x+2y)*{gg+kk}\"))"
   ]
  }
 ],
 "metadata": {
  "kernelspec": {
   "display_name": "Python 3 (ipykernel)",
   "language": "python",
   "name": "python3"
  },
  "language_info": {
   "codemirror_mode": {
    "name": "ipython",
    "version": 3
   },
   "file_extension": ".py",
   "mimetype": "text/x-python",
   "name": "python",
   "nbconvert_exporter": "python",
   "pygments_lexer": "ipython3",
   "version": "3.11.5"
  }
 },
 "nbformat": 4,
 "nbformat_minor": 5
}
